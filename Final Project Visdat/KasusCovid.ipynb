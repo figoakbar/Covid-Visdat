{
 "cells": [
  {
   "cell_type": "markdown",
   "metadata": {},
   "source": [
    "Import"
   ]
  },
  {
   "cell_type": "code",
   "execution_count": 53,
   "metadata": {},
   "outputs": [],
   "source": [
    "#import libraries\n",
    "import pandas as pd\n",
    "\n",
    "from bokeh.plotting import figure, show\n",
    "from bokeh.models import ColumnDataSource\n",
    "from bokeh.models.widgets import Tabs, Panel\n",
    "from bokeh.plotting import figure\n",
    "from bokeh.models import HoverTool, ColumnDataSource "
   ]
  },
  {
   "cell_type": "markdown",
   "metadata": {},
   "source": [
    "Dataset"
   ]
  },
  {
   "cell_type": "code",
   "execution_count": 54,
   "metadata": {},
   "outputs": [
    {
     "data": {
      "text/html": [
       "<div>\n",
       "<style scoped>\n",
       "    .dataframe tbody tr th:only-of-type {\n",
       "        vertical-align: middle;\n",
       "    }\n",
       "\n",
       "    .dataframe tbody tr th {\n",
       "        vertical-align: top;\n",
       "    }\n",
       "\n",
       "    .dataframe thead th {\n",
       "        text-align: right;\n",
       "    }\n",
       "</style>\n",
       "<table border=\"1\" class=\"dataframe\">\n",
       "  <thead>\n",
       "    <tr style=\"text-align: right;\">\n",
       "      <th></th>\n",
       "      <th>date</th>\n",
       "      <th>new_tested</th>\n",
       "      <th>acc_tested</th>\n",
       "      <th>new_confirmed</th>\n",
       "      <th>acc_confirmed</th>\n",
       "      <th>acc_negative</th>\n",
       "      <th>being_checked</th>\n",
       "      <th>isolated</th>\n",
       "    </tr>\n",
       "  </thead>\n",
       "  <tbody>\n",
       "    <tr>\n",
       "      <th>0</th>\n",
       "      <td>02-Mar-20</td>\n",
       "      <td>339</td>\n",
       "      <td>339</td>\n",
       "      <td>2</td>\n",
       "      <td>2</td>\n",
       "      <td>335</td>\n",
       "      <td>2</td>\n",
       "      <td>2</td>\n",
       "    </tr>\n",
       "    <tr>\n",
       "      <th>1</th>\n",
       "      <td>03-Mar-20</td>\n",
       "      <td>2</td>\n",
       "      <td>341</td>\n",
       "      <td>0</td>\n",
       "      <td>2</td>\n",
       "      <td>337</td>\n",
       "      <td>2</td>\n",
       "      <td>2</td>\n",
       "    </tr>\n",
       "    <tr>\n",
       "      <th>2</th>\n",
       "      <td>04-Mar-20</td>\n",
       "      <td>31</td>\n",
       "      <td>372</td>\n",
       "      <td>0</td>\n",
       "      <td>2</td>\n",
       "      <td>356</td>\n",
       "      <td>14</td>\n",
       "      <td>2</td>\n",
       "    </tr>\n",
       "    <tr>\n",
       "      <th>3</th>\n",
       "      <td>05-Mar-20</td>\n",
       "      <td>16</td>\n",
       "      <td>388</td>\n",
       "      <td>0</td>\n",
       "      <td>2</td>\n",
       "      <td>371</td>\n",
       "      <td>15</td>\n",
       "      <td>2</td>\n",
       "    </tr>\n",
       "    <tr>\n",
       "      <th>4</th>\n",
       "      <td>06-Mar-20</td>\n",
       "      <td>62</td>\n",
       "      <td>450</td>\n",
       "      <td>2</td>\n",
       "      <td>4</td>\n",
       "      <td>422</td>\n",
       "      <td>24</td>\n",
       "      <td>4</td>\n",
       "    </tr>\n",
       "  </tbody>\n",
       "</table>\n",
       "</div>"
      ],
      "text/plain": [
       "        date  new_tested  acc_tested  new_confirmed  acc_confirmed  \\\n",
       "0  02-Mar-20         339         339              2              2   \n",
       "1  03-Mar-20           2         341              0              2   \n",
       "2  04-Mar-20          31         372              0              2   \n",
       "3  05-Mar-20          16         388              0              2   \n",
       "4  06-Mar-20          62         450              2              4   \n",
       "\n",
       "   acc_negative  being_checked  isolated  \n",
       "0           335              2         2  \n",
       "1           337              2         2  \n",
       "2           356             14         2  \n",
       "3           371             15         2  \n",
       "4           422             24         4  "
      ]
     },
     "execution_count": 54,
     "metadata": {},
     "output_type": "execute_result"
    }
   ],
   "source": [
    "#membaca dataset dan melhat data teratas dari dataset\n",
    "df = pd.read_csv(\"covid.csv\")\n",
    "df.head()"
   ]
  },
  {
   "cell_type": "code",
   "execution_count": 55,
   "metadata": {},
   "outputs": [],
   "source": [
    "#mengubah tipe data date menjadi datetime\n",
    "df['date'] = pd.to_datetime(df.date)"
   ]
  },
  {
   "cell_type": "code",
   "execution_count": 56,
   "metadata": {},
   "outputs": [
    {
     "name": "stdout",
     "output_type": "stream",
     "text": [
      "<class 'pandas.core.frame.DataFrame'>\n",
      "RangeIndex: 30 entries, 0 to 29\n",
      "Data columns (total 8 columns):\n",
      " #   Column         Non-Null Count  Dtype         \n",
      "---  ------         --------------  -----         \n",
      " 0   date           30 non-null     datetime64[ns]\n",
      " 1   new_tested     30 non-null     int64         \n",
      " 2   acc_tested     30 non-null     int64         \n",
      " 3   new_confirmed  30 non-null     int64         \n",
      " 4   acc_confirmed  30 non-null     int64         \n",
      " 5   acc_negative   30 non-null     int64         \n",
      " 6   being_checked  30 non-null     int64         \n",
      " 7   isolated       30 non-null     int64         \n",
      "dtypes: datetime64[ns](1), int64(7)\n",
      "memory usage: 2.0 KB\n"
     ]
    }
   ],
   "source": [
    "#melihat tipe data pada setiap kolom dataset\n",
    "df.info()"
   ]
  },
  {
   "cell_type": "code",
   "execution_count": 57,
   "metadata": {},
   "outputs": [],
   "source": [
    "#inisialisasi kedalam cds agar bisa ditampilkan di figure\n",
    "cds_covid = ColumnDataSource(df)"
   ]
  },
  {
   "cell_type": "markdown",
   "metadata": {},
   "source": [
    "Pembuatan figure kasus positif covid"
   ]
  },
  {
   "cell_type": "code",
   "execution_count": 58,
   "metadata": {},
   "outputs": [
    {
     "name": "stderr",
     "output_type": "stream",
     "text": [
      "C:\\Users\\figoakbar\\AppData\\Local\\Programs\\Python\\Python39\\lib\\site-packages\\bokeh\\models\\plots.py:815: UserWarning: \n",
      "You are attempting to set `plot.legend.location` on a plot that has zero legends added, this will have no effect.\n",
      "\n",
      "Before legend properties can be set, you must add a Legend explicitly, or call a glyph method with a legend parameter set.\n",
      "\n",
      "  warnings.warn(_LEGEND_EMPTY_WARNING % attr)\n"
     ]
    }
   ],
   "source": [
    "#membuat figure kasus positif covid\n",
    "fig_positive = figure(x_axis_label='date', \n",
    "                      y_axis_label=\"Positive Cases\",\n",
    "                      x_axis_type='datetime', \n",
    "                      sizing_mode=\"stretch_width\", \n",
    "                      plot_height=500,\n",
    "                      plot_width= 1600)\n",
    "\n",
    "fig_positive.line(x= df['date'], y= df['acc_confirmed'], line_color='blue')\n",
    "fig_positive.legend.location = \"top_right\"\n",
    "\n",
    "#membuat fitur hover pada figure\n",
    "hover_positive = fig_positive.circle(x = \"date\",y = \"acc_confirmed\", \n",
    "                                    source= cds_covid, \n",
    "                                    hover_fill_color='blue', \n",
    "                                    alpha=0.5)\n",
    "tooltips = [('date', '@date{%F}'), ('total cases', '@acc_confirmed'),]\n",
    "fig_positive.add_tools(HoverTool(tooltips=tooltips, formatters={'@date': 'datetime'}, renderers=[hover_positive]))"
   ]
  },
  {
   "cell_type": "markdown",
   "metadata": {},
   "source": [
    "Pembuatan figure kasus negatif covid"
   ]
  },
  {
   "cell_type": "code",
   "execution_count": 59,
   "metadata": {},
   "outputs": [],
   "source": [
    "#membuat figure kasus negatif covid\n",
    "fig_negative = figure(x_axis_label='date', \n",
    "                      y_axis_label=\"Negative Cases\",\n",
    "                      x_axis_type='datetime', \n",
    "                      sizing_mode=\"stretch_width\", \n",
    "                      plot_height=500,\n",
    "                      plot_width= 1600)\n",
    "fig_negative.line(x= df['date'], y= df['acc_negative'], line_color='red')\n",
    "fig_negative.legend.location = \"top_right\"\n",
    "\n",
    "#membuat fitur hover pada figure\n",
    "hover_negative = fig_negative.circle(x = \"date\",y = \"acc_negative\", \n",
    "                                    source= cds_covid, \n",
    "                                    hover_fill_color='red', \n",
    "                                    alpha=0.5)\n",
    "tooltips = [('date', '@date{%F}'), ('total cases', '@acc_negative'),]\n",
    "fig_negative.add_tools(HoverTool(tooltips=tooltips, formatters={'@date': 'datetime'}, renderers=[hover_negative]))"
   ]
  },
  {
   "cell_type": "markdown",
   "metadata": {},
   "source": [
    "Pembuatan fitur tab"
   ]
  },
  {
   "cell_type": "code",
   "execution_count": 60,
   "metadata": {},
   "outputs": [],
   "source": [
    "#inisialisasi fitur tab kasus positif\n",
    "tab1 = Panel(child=fig_positive, title='COVID-19 Positive Cases')\n",
    "\n",
    "#inisialisasi fitur tab kasus negatif\n",
    "tab2 = Panel(child=fig_negative, title='COVID-19 Negative Cases')"
   ]
  },
  {
   "cell_type": "code",
   "execution_count": 61,
   "metadata": {},
   "outputs": [],
   "source": [
    "show(Tabs(tabs=[tab1, tab2]))"
   ]
  }
 ],
 "metadata": {
  "interpreter": {
   "hash": "5e071a6d9ef805e44470131f7d33d378a809f7359cce880ef526a18775377dc6"
  },
  "kernelspec": {
   "display_name": "Python 3.9.5 64-bit",
   "language": "python",
   "name": "python3"
  },
  "language_info": {
   "codemirror_mode": {
    "name": "ipython",
    "version": 3
   },
   "file_extension": ".py",
   "mimetype": "text/x-python",
   "name": "python",
   "nbconvert_exporter": "python",
   "pygments_lexer": "ipython3",
   "version": "3.9.5"
  },
  "orig_nbformat": 4
 },
 "nbformat": 4,
 "nbformat_minor": 2
}
